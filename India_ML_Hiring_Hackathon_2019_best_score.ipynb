{
  "nbformat": 4,
  "nbformat_minor": 0,
  "metadata": {
    "colab": {
      "name": "India ML Hiring Hackathon 2019_best score.ipynb",
      "version": "0.3.2",
      "provenance": [],
      "collapsed_sections": [
        "sGiGrHdbk3Cn",
        "Ll1gl4WP33F_"
      ],
      "toc_visible": true
    },
    "kernelspec": {
      "name": "python3",
      "display_name": "Python 3"
    }
  },
  "cells": [
    {
      "cell_type": "markdown",
      "metadata": {
        "id": "sGiGrHdbk3Cn",
        "colab_type": "text"
      },
      "source": [
        "## Get Data"
      ]
    },
    {
      "cell_type": "code",
      "metadata": {
        "id": "pHXPEvA8kw7f",
        "colab_type": "code",
        "colab": {}
      },
      "source": [
        "from google.colab import files"
      ],
      "execution_count": 0,
      "outputs": []
    },
    {
      "cell_type": "code",
      "metadata": {
        "id": "sfjhAg24k7UP",
        "colab_type": "code",
        "colab": {}
      },
      "source": [
        "files.upload()"
      ],
      "execution_count": 0,
      "outputs": []
    },
    {
      "cell_type": "code",
      "metadata": {
        "id": "iVFy5SWSk9FT",
        "colab_type": "code",
        "colab": {}
      },
      "source": [
        "!pip install -q kaggle"
      ],
      "execution_count": 0,
      "outputs": []
    },
    {
      "cell_type": "code",
      "metadata": {
        "id": "YyGcW1fZk9Dz",
        "colab_type": "code",
        "colab": {}
      },
      "source": [
        "!mkdir -p ~/.kaggle"
      ],
      "execution_count": 0,
      "outputs": []
    },
    {
      "cell_type": "code",
      "metadata": {
        "id": "G87Fn9oLk9CH",
        "colab_type": "code",
        "colab": {}
      },
      "source": [
        "!cp kaggle.json ~/.kaggle/"
      ],
      "execution_count": 0,
      "outputs": []
    },
    {
      "cell_type": "code",
      "metadata": {
        "id": "Wx-LN6Ltk9AK",
        "colab_type": "code",
        "colab": {}
      },
      "source": [
        "!chmod 600 /root/.kaggle/kaggle.json"
      ],
      "execution_count": 0,
      "outputs": []
    },
    {
      "cell_type": "code",
      "metadata": {
        "id": "YCovj7kvk88v",
        "colab_type": "code",
        "colab": {}
      },
      "source": [
        "!kaggle datasets download buntyshah/india-ml-hiring-hackathon-2019"
      ],
      "execution_count": 0,
      "outputs": []
    },
    {
      "cell_type": "code",
      "metadata": {
        "id": "7f0G1yBVk86g",
        "colab_type": "code",
        "colab": {}
      },
      "source": [
        "!unzip \"../content/india-ml-hiring-hackathon-2019.zip\" "
      ],
      "execution_count": 0,
      "outputs": []
    },
    {
      "cell_type": "markdown",
      "metadata": {
        "id": "n3OM5E-zlQob",
        "colab_type": "text"
      },
      "source": [
        "## Read Data"
      ]
    },
    {
      "cell_type": "code",
      "metadata": {
        "id": "8Be0l1BnlKRB",
        "colab_type": "code",
        "colab": {}
      },
      "source": [
        "import numpy as np # linear algebra\n",
        "import pandas as pd # data processing, CSV file I/O (e.g. pd.read_csv)\n",
        "import matplotlib.pyplot as plt\n",
        "import seaborn as sns\n",
        "%matplotlib inline\n",
        "from sklearn.preprocessing import LabelEncoder\n",
        "from sklearn import model_selection\n",
        "from sklearn.model_selection import train_test_split\n",
        "from sklearn.preprocessing import RobustScaler\n",
        "import lightgbm as lgb\n",
        "import xgboost as xgb\n",
        "from sklearn.decomposition import PCA,KernelPCA\n",
        "from sklearn.ensemble import RandomForestClassifier\n",
        "from sklearn.svm import SVC\n",
        "from keras import Sequential\n",
        "from keras import layers\n",
        "from keras import backend as K\n",
        "from keras.layers.core import Dense\n",
        "from keras import regularizers\n",
        "from keras.layers import Dropout\n",
        "from keras.constraints import max_norm\n",
        "import tensorflow as tf\n",
        "import keras\n",
        "from lightgbm import LGBMClassifier\n",
        "\n",
        "\n",
        "# Data processing, metrics and modeling\n",
        "from sklearn.preprocessing import LabelEncoder\n",
        "from sklearn.model_selection import train_test_split, StratifiedKFold,KFold\n",
        "\n",
        "from datetime import datetime\n",
        "from sklearn.metrics import precision_score, recall_score, confusion_matrix, accuracy_score, roc_auc_score, f1_score, roc_curve, auc,precision_recall_curve\n",
        "from sklearn import metrics\n",
        "from sklearn import preprocessing"
      ],
      "execution_count": 0,
      "outputs": []
    },
    {
      "cell_type": "code",
      "metadata": {
        "id": "AkkOPWZGlSNg",
        "colab_type": "code",
        "colab": {}
      },
      "source": [
        "train = pd.read_csv(\"../content/train.csv\")\n",
        "test = pd.read_csv(\"../content/test.csv\")\n",
        "sub = pd.read_csv(\"../content/sample_submission.csv\")"
      ],
      "execution_count": 0,
      "outputs": []
    },
    {
      "cell_type": "code",
      "metadata": {
        "id": "ZwJTBClalVlC",
        "colab_type": "code",
        "outputId": "9b9d28ab-8f6d-4c51-f719-3f24f45dad58",
        "colab": {
          "base_uri": "https://localhost:8080/",
          "height": 68
        }
      },
      "source": [
        "train['m13'].value_counts()"
      ],
      "execution_count": 0,
      "outputs": [
        {
          "output_type": "execute_result",
          "data": {
            "text/plain": [
              "0    115422\n",
              "1       636\n",
              "Name: m13, dtype: int64"
            ]
          },
          "metadata": {
            "tags": []
          },
          "execution_count": 172
        }
      ]
    },
    {
      "cell_type": "markdown",
      "metadata": {
        "id": "Pl_K3ezclXry",
        "colab_type": "text"
      },
      "source": [
        "## Based on EDA"
      ]
    },
    {
      "cell_type": "code",
      "metadata": {
        "id": "FWnbyvSllV2A",
        "colab_type": "code",
        "colab": {}
      },
      "source": [
        "train = train.drop(['loan_id','number_of_borrowers'],axis=1)\n",
        "test = test.drop(['loan_id','number_of_borrowers'],axis=1)"
      ],
      "execution_count": 0,
      "outputs": []
    },
    {
      "cell_type": "code",
      "metadata": {
        "id": "yQMtqO3wlaAj",
        "colab_type": "code",
        "outputId": "83490f32-25d2-42f4-855d-f0201bfe4aad",
        "colab": {
          "base_uri": "https://localhost:8080/",
          "height": 275
        }
      },
      "source": [
        "train.head()"
      ],
      "execution_count": 0,
      "outputs": [
        {
          "output_type": "execute_result",
          "data": {
            "text/html": [
              "<div>\n",
              "<style scoped>\n",
              "    .dataframe tbody tr th:only-of-type {\n",
              "        vertical-align: middle;\n",
              "    }\n",
              "\n",
              "    .dataframe tbody tr th {\n",
              "        vertical-align: top;\n",
              "    }\n",
              "\n",
              "    .dataframe thead th {\n",
              "        text-align: right;\n",
              "    }\n",
              "</style>\n",
              "<table border=\"1\" class=\"dataframe\">\n",
              "  <thead>\n",
              "    <tr style=\"text-align: right;\">\n",
              "      <th></th>\n",
              "      <th>source</th>\n",
              "      <th>financial_institution</th>\n",
              "      <th>interest_rate</th>\n",
              "      <th>unpaid_principal_bal</th>\n",
              "      <th>loan_term</th>\n",
              "      <th>origination_date</th>\n",
              "      <th>first_payment_date</th>\n",
              "      <th>loan_to_value</th>\n",
              "      <th>debt_to_income_ratio</th>\n",
              "      <th>borrower_credit_score</th>\n",
              "      <th>loan_purpose</th>\n",
              "      <th>insurance_percent</th>\n",
              "      <th>co-borrower_credit_score</th>\n",
              "      <th>insurance_type</th>\n",
              "      <th>m1</th>\n",
              "      <th>m2</th>\n",
              "      <th>m3</th>\n",
              "      <th>m4</th>\n",
              "      <th>m5</th>\n",
              "      <th>m6</th>\n",
              "      <th>m7</th>\n",
              "      <th>m8</th>\n",
              "      <th>m9</th>\n",
              "      <th>m10</th>\n",
              "      <th>m11</th>\n",
              "      <th>m12</th>\n",
              "      <th>m13</th>\n",
              "    </tr>\n",
              "  </thead>\n",
              "  <tbody>\n",
              "    <tr>\n",
              "      <th>0</th>\n",
              "      <td>Z</td>\n",
              "      <td>Turner, Baldwin and Rhodes</td>\n",
              "      <td>4.250</td>\n",
              "      <td>214000</td>\n",
              "      <td>360</td>\n",
              "      <td>2012-03-01</td>\n",
              "      <td>05/2012</td>\n",
              "      <td>95</td>\n",
              "      <td>22.0</td>\n",
              "      <td>694.0</td>\n",
              "      <td>C86</td>\n",
              "      <td>30.0</td>\n",
              "      <td>0.0</td>\n",
              "      <td>0.0</td>\n",
              "      <td>0</td>\n",
              "      <td>0</td>\n",
              "      <td>0</td>\n",
              "      <td>0</td>\n",
              "      <td>0</td>\n",
              "      <td>0</td>\n",
              "      <td>1</td>\n",
              "      <td>0</td>\n",
              "      <td>0</td>\n",
              "      <td>0</td>\n",
              "      <td>0</td>\n",
              "      <td>0</td>\n",
              "      <td>1</td>\n",
              "    </tr>\n",
              "    <tr>\n",
              "      <th>1</th>\n",
              "      <td>Y</td>\n",
              "      <td>Swanson, Newton and Miller</td>\n",
              "      <td>4.875</td>\n",
              "      <td>144000</td>\n",
              "      <td>360</td>\n",
              "      <td>2012-01-01</td>\n",
              "      <td>03/2012</td>\n",
              "      <td>72</td>\n",
              "      <td>44.0</td>\n",
              "      <td>697.0</td>\n",
              "      <td>B12</td>\n",
              "      <td>0.0</td>\n",
              "      <td>0.0</td>\n",
              "      <td>0.0</td>\n",
              "      <td>0</td>\n",
              "      <td>0</td>\n",
              "      <td>0</td>\n",
              "      <td>0</td>\n",
              "      <td>0</td>\n",
              "      <td>0</td>\n",
              "      <td>0</td>\n",
              "      <td>0</td>\n",
              "      <td>0</td>\n",
              "      <td>0</td>\n",
              "      <td>1</td>\n",
              "      <td>0</td>\n",
              "      <td>1</td>\n",
              "    </tr>\n",
              "    <tr>\n",
              "      <th>2</th>\n",
              "      <td>Z</td>\n",
              "      <td>Thornton-Davis</td>\n",
              "      <td>3.250</td>\n",
              "      <td>366000</td>\n",
              "      <td>180</td>\n",
              "      <td>2012-01-01</td>\n",
              "      <td>03/2012</td>\n",
              "      <td>49</td>\n",
              "      <td>33.0</td>\n",
              "      <td>780.0</td>\n",
              "      <td>B12</td>\n",
              "      <td>0.0</td>\n",
              "      <td>0.0</td>\n",
              "      <td>0.0</td>\n",
              "      <td>0</td>\n",
              "      <td>0</td>\n",
              "      <td>0</td>\n",
              "      <td>0</td>\n",
              "      <td>0</td>\n",
              "      <td>0</td>\n",
              "      <td>0</td>\n",
              "      <td>0</td>\n",
              "      <td>0</td>\n",
              "      <td>0</td>\n",
              "      <td>0</td>\n",
              "      <td>0</td>\n",
              "      <td>1</td>\n",
              "    </tr>\n",
              "    <tr>\n",
              "      <th>3</th>\n",
              "      <td>X</td>\n",
              "      <td>OTHER</td>\n",
              "      <td>4.750</td>\n",
              "      <td>135000</td>\n",
              "      <td>360</td>\n",
              "      <td>2012-02-01</td>\n",
              "      <td>04/2012</td>\n",
              "      <td>46</td>\n",
              "      <td>44.0</td>\n",
              "      <td>633.0</td>\n",
              "      <td>B12</td>\n",
              "      <td>0.0</td>\n",
              "      <td>638.0</td>\n",
              "      <td>0.0</td>\n",
              "      <td>0</td>\n",
              "      <td>0</td>\n",
              "      <td>0</td>\n",
              "      <td>0</td>\n",
              "      <td>0</td>\n",
              "      <td>0</td>\n",
              "      <td>0</td>\n",
              "      <td>0</td>\n",
              "      <td>1</td>\n",
              "      <td>1</td>\n",
              "      <td>1</td>\n",
              "      <td>1</td>\n",
              "      <td>1</td>\n",
              "    </tr>\n",
              "    <tr>\n",
              "      <th>4</th>\n",
              "      <td>X</td>\n",
              "      <td>OTHER</td>\n",
              "      <td>4.750</td>\n",
              "      <td>124000</td>\n",
              "      <td>360</td>\n",
              "      <td>2012-02-01</td>\n",
              "      <td>04/2012</td>\n",
              "      <td>80</td>\n",
              "      <td>43.0</td>\n",
              "      <td>681.0</td>\n",
              "      <td>C86</td>\n",
              "      <td>0.0</td>\n",
              "      <td>0.0</td>\n",
              "      <td>0.0</td>\n",
              "      <td>0</td>\n",
              "      <td>1</td>\n",
              "      <td>2</td>\n",
              "      <td>3</td>\n",
              "      <td>4</td>\n",
              "      <td>5</td>\n",
              "      <td>6</td>\n",
              "      <td>7</td>\n",
              "      <td>8</td>\n",
              "      <td>9</td>\n",
              "      <td>10</td>\n",
              "      <td>11</td>\n",
              "      <td>1</td>\n",
              "    </tr>\n",
              "  </tbody>\n",
              "</table>\n",
              "</div>"
            ],
            "text/plain": [
              "  source       financial_institution  interest_rate  ...  m11  m12 m13\n",
              "0      Z  Turner, Baldwin and Rhodes          4.250  ...    0    0   1\n",
              "1      Y  Swanson, Newton and Miller          4.875  ...    1    0   1\n",
              "2      Z              Thornton-Davis          3.250  ...    0    0   1\n",
              "3      X                       OTHER          4.750  ...    1    1   1\n",
              "4      X                       OTHER          4.750  ...   10   11   1\n",
              "\n",
              "[5 rows x 27 columns]"
            ]
          },
          "metadata": {
            "tags": []
          },
          "execution_count": 174
        }
      ]
    },
    {
      "cell_type": "code",
      "metadata": {
        "id": "rMJguc5m_sPI",
        "colab_type": "code",
        "colab": {}
      },
      "source": [
        "\n",
        "#test['new_feature'] = test['m1'] + test['m2'] + test['m3'] + test['m4'] + test['m5'] + test['m6'] +test['m7']+test['m8']+test['m10']+test['m11']"
      ],
      "execution_count": 0,
      "outputs": []
    },
    {
      "cell_type": "code",
      "metadata": {
        "id": "VlPDgJbBAhp3",
        "colab_type": "code",
        "colab": {}
      },
      "source": [
        "#train['new_feature'] = train['new_feature'].astype('object')\n",
        "#test['new_feature'] = test['new_feature'].astype('object')"
      ],
      "execution_count": 0,
      "outputs": []
    },
    {
      "cell_type": "code",
      "metadata": {
        "id": "J5fpJUOoDcDE",
        "colab_type": "code",
        "colab": {}
      },
      "source": [
        "train['credit_score'] = train['borrower_credit_score'] + train['co-borrower_credit_score']\n",
        "test['credit_score'] = test['borrower_credit_score'] + test['co-borrower_credit_score']"
      ],
      "execution_count": 0,
      "outputs": []
    },
    {
      "cell_type": "code",
      "metadata": {
        "id": "aHE8aQzHOGmj",
        "colab_type": "code",
        "colab": {}
      },
      "source": [
        "#train['total_deliquency'] = train['m1'] + train['m2'] + train['m3'] + train['m4'] + train['m5'] + train['m6'] +train['m7']+train['m8']+train['m9']+train['m10']+train['m11']+train['m12']\n",
        "#test['total_deliquency'] = test['m1'] + test['m2'] + test['m3'] + test['m4'] + test['m5'] + test['m6'] +test['m7']+test['m8']+test['m9']+test['m10']+test['m11']+test['m12']"
      ],
      "execution_count": 0,
      "outputs": []
    },
    {
      "cell_type": "markdown",
      "metadata": {
        "id": "pKCFRxpalj2W",
        "colab_type": "text"
      },
      "source": [
        "## Align Data"
      ]
    },
    {
      "cell_type": "code",
      "metadata": {
        "id": "95aVDsV9lbjD",
        "colab_type": "code",
        "colab": {}
      },
      "source": [
        "train = pd.get_dummies(train)\n",
        "test = pd.get_dummies(test)"
      ],
      "execution_count": 0,
      "outputs": []
    },
    {
      "cell_type": "code",
      "metadata": {
        "id": "_RxskyJNll3E",
        "colab_type": "code",
        "outputId": "85324f5e-1926-4ca0-9614-ad8ebfa21bca",
        "colab": {
          "base_uri": "https://localhost:8080/",
          "height": 51
        }
      },
      "source": [
        "# Align train and test\n",
        "\n",
        "train_labels = train['m13']\n",
        "\n",
        "# Align the training and testing data, keep only columns present in both dataframes\n",
        "train_df, test_df = train.align(test, join = 'inner', axis = 1)\n",
        "\n",
        "# Add the target back in\n",
        "train_df['m13'] = train_labels\n",
        "\n",
        "print('Training Features shape: ', train_df.shape)\n",
        "print('Testing Features shape: ', test_df.shape)"
      ],
      "execution_count": 0,
      "outputs": [
        {
          "output_type": "stream",
          "text": [
            "Training Features shape:  (116058, 48)\n",
            "Testing Features shape:  (35866, 47)\n"
          ],
          "name": "stdout"
        }
      ]
    },
    {
      "cell_type": "markdown",
      "metadata": {
        "id": "k81nCSx9lsBx",
        "colab_type": "text"
      },
      "source": [
        "## Over followed by Under Samping"
      ]
    },
    {
      "cell_type": "code",
      "metadata": {
        "id": "2hDJVX39lplF",
        "colab_type": "code",
        "colab": {}
      },
      "source": [
        "from imblearn.under_sampling import TomekLinks"
      ],
      "execution_count": 0,
      "outputs": []
    },
    {
      "cell_type": "code",
      "metadata": {
        "id": "cwP0XWO9lx-F",
        "colab_type": "code",
        "colab": {}
      },
      "source": [
        "tl = TomekLinks()"
      ],
      "execution_count": 0,
      "outputs": []
    },
    {
      "cell_type": "code",
      "metadata": {
        "id": "H2cofiarlz_l",
        "colab_type": "code",
        "colab": {}
      },
      "source": [
        "y = train_df['m13']\n",
        "X = train_df.drop('m13',axis=1)"
      ],
      "execution_count": 0,
      "outputs": []
    },
    {
      "cell_type": "code",
      "metadata": {
        "id": "IpEwS7Nrl111",
        "colab_type": "code",
        "colab": {}
      },
      "source": [
        "from imblearn.over_sampling import SVMSMOTE"
      ],
      "execution_count": 0,
      "outputs": []
    },
    {
      "cell_type": "code",
      "metadata": {
        "id": "B059bzBKl3Q5",
        "colab_type": "code",
        "colab": {}
      },
      "source": [
        "sm = SVMSMOTE(random_state=42)"
      ],
      "execution_count": 0,
      "outputs": []
    },
    {
      "cell_type": "code",
      "metadata": {
        "id": "-IM1cw1Wl4pK",
        "colab_type": "code",
        "colab": {}
      },
      "source": [
        "X_res, y_res = sm.fit_resample(X, y)"
      ],
      "execution_count": 0,
      "outputs": []
    },
    {
      "cell_type": "code",
      "metadata": {
        "id": "Nda6U2RQWNEq",
        "colab_type": "code",
        "colab": {}
      },
      "source": [
        "from imblearn.under_sampling import AllKNN\n",
        "allknn = AllKNN()"
      ],
      "execution_count": 0,
      "outputs": []
    },
    {
      "cell_type": "code",
      "metadata": {
        "id": "-9AnJbIel6Co",
        "colab_type": "code",
        "colab": {}
      },
      "source": [
        "X_res, y_res = tl.fit_resample(X_res, y_res)"
      ],
      "execution_count": 0,
      "outputs": []
    },
    {
      "cell_type": "code",
      "metadata": {
        "id": "T1ZZgxgzR5K7",
        "colab_type": "code",
        "colab": {}
      },
      "source": [
        "X_res, y_res = allknn.fit_resample(X_res, y_res)"
      ],
      "execution_count": 0,
      "outputs": []
    },
    {
      "cell_type": "code",
      "metadata": {
        "id": "n_CT8ZvFnb7p",
        "colab_type": "code",
        "outputId": "ca7fc20c-e2c9-4996-af8e-4fb6c450b20e",
        "colab": {
          "base_uri": "https://localhost:8080/",
          "height": 34
        }
      },
      "source": [
        "print(X_res.shape , y_res.shape)"
      ],
      "execution_count": 0,
      "outputs": [
        {
          "output_type": "stream",
          "text": [
            "(176698, 47) (176698,)\n"
          ],
          "name": "stdout"
        }
      ]
    },
    {
      "cell_type": "code",
      "metadata": {
        "id": "XhzRmLvAnsPH",
        "colab_type": "code",
        "outputId": "0b21aff6-d1c0-47ee-a3b5-988d2e47a2ea",
        "colab": {
          "base_uri": "https://localhost:8080/",
          "height": 34
        }
      },
      "source": [
        "y_res.sum()"
      ],
      "execution_count": 0,
      "outputs": [
        {
          "output_type": "execute_result",
          "data": {
            "text/plain": [
              "63762"
            ]
          },
          "metadata": {
            "tags": []
          },
          "execution_count": 191
        }
      ]
    },
    {
      "cell_type": "code",
      "metadata": {
        "id": "pNa5KBdJ3zFd",
        "colab_type": "code",
        "colab": {}
      },
      "source": [
        "## More under sampling\n",
        "from imblearn.under_sampling import NeighbourhoodCleaningRule\n",
        "#ncr = NeighbourhoodCleaningRule()\n",
        "#X_res, y_res = ncr.fit_resample(X_res, y_res)"
      ],
      "execution_count": 0,
      "outputs": []
    },
    {
      "cell_type": "code",
      "metadata": {
        "id": "a0Hb1tkNm_7F",
        "colab_type": "code",
        "outputId": "1b886c1d-9a48-46f0-81fd-a63df70eb4e7",
        "colab": {
          "base_uri": "https://localhost:8080/",
          "height": 34
        }
      },
      "source": [
        "print(X_res.shape , y_res.shape)"
      ],
      "execution_count": 0,
      "outputs": [
        {
          "output_type": "stream",
          "text": [
            "(176698, 47) (176698,)\n"
          ],
          "name": "stdout"
        }
      ]
    },
    {
      "cell_type": "code",
      "metadata": {
        "id": "Bcgds3TgnEkE",
        "colab_type": "code",
        "outputId": "96ff7148-a935-45d5-f73d-69fb486986b8",
        "colab": {
          "base_uri": "https://localhost:8080/",
          "height": 34
        }
      },
      "source": [
        "y_res.sum()"
      ],
      "execution_count": 0,
      "outputs": [
        {
          "output_type": "execute_result",
          "data": {
            "text/plain": [
              "63762"
            ]
          },
          "metadata": {
            "tags": []
          },
          "execution_count": 194
        }
      ]
    },
    {
      "cell_type": "code",
      "metadata": {
        "id": "O7vhoZB64YuS",
        "colab_type": "code",
        "colab": {}
      },
      "source": [
        "X_res = pd.DataFrame(X_res,columns=X.columns)"
      ],
      "execution_count": 0,
      "outputs": []
    },
    {
      "cell_type": "code",
      "metadata": {
        "id": "JuZNQpKh54-R",
        "colab_type": "code",
        "colab": {}
      },
      "source": [
        "y_res = pd.Series(y_res)"
      ],
      "execution_count": 0,
      "outputs": []
    },
    {
      "cell_type": "markdown",
      "metadata": {
        "id": "N6Em0w4ioC10",
        "colab_type": "text"
      },
      "source": [
        "## Light GBM"
      ]
    },
    {
      "cell_type": "code",
      "metadata": {
        "id": "sFPhWsNrnHUk",
        "colab_type": "code",
        "colab": {}
      },
      "source": [
        "X_train, X_test, y_train, y_test = train_test_split(X_res, y_res, test_size=0.2, random_state=10,stratify=y_res)"
      ],
      "execution_count": 0,
      "outputs": []
    },
    {
      "cell_type": "code",
      "metadata": {
        "id": "Y8XwIwcZoFtZ",
        "colab_type": "code",
        "colab": {}
      },
      "source": [
        "from sklearn.metrics import f1_score\n",
        "\n",
        "def lgb_f1_score(y_hat, data):\n",
        "    y_true = data.get_label()\n",
        "    y_hat = np.round(y_hat) # scikits f1 doesn't like probabilities\n",
        "    return 'f1', f1_score(y_true, y_hat), True"
      ],
      "execution_count": 0,
      "outputs": []
    },
    {
      "cell_type": "code",
      "metadata": {
        "id": "_0yCON_4oHQv",
        "colab_type": "code",
        "colab": {}
      },
      "source": [
        "def run_lgb(X_train, X_test, y_train, y_test, test_df):\n",
        "    params = {\n",
        "        \"objective\" : \"binary\",\n",
        "       \"n_estimators\":10000,\n",
        "       \"reg_alpha\" : 2.0,\n",
        "       \"reg_lambda\":2.1,\n",
        "       \"n_jobs\":-1,\n",
        "       \"colsample_bytree\":.8,\n",
        "       \"min_child_weight\":0.8,\n",
        "       \"subsample\":0.8715623,\n",
        "       \"min_data_in_leaf\":20,\n",
        "       \"nthread\":4,\n",
        "       \"metric\" : \"f1\",\n",
        "       \"num_leaves\" : 100,\n",
        "       \"learning_rate\" : 0.01,\n",
        "       \"verbosity\" : -1,\n",
        "       \"seed\": 120,\n",
        "       \"max_bin\":60,\n",
        "       'max_depth':15,\n",
        "       'min_gain_to_split':.0222415,\n",
        "       'scale_pos_weight':1\n",
        "    }\n",
        "    \n",
        "    lgtrain = lgb.Dataset(X_train, label=y_train)\n",
        "    lgval = lgb.Dataset(X_test, label=y_test)\n",
        "    evals_result = {}\n",
        "    model = lgb.train(params, lgtrain, 10000, \n",
        "                      valid_sets=[lgtrain, lgval], \n",
        "                      early_stopping_rounds=100, \n",
        "                      verbose_eval=100, \n",
        "                      evals_result=evals_result,feval=lgb_f1_score)\n",
        "    \n",
        "    pred_test_y = model.predict(test_df, num_iteration=model.best_iteration)\n",
        "    return pred_test_y, model, evals_result"
      ],
      "execution_count": 0,
      "outputs": []
    },
    {
      "cell_type": "code",
      "metadata": {
        "id": "hZD3nHZhoJLv",
        "colab_type": "code",
        "outputId": "b7970f5a-d927-4f74-db9f-53278bb4bc4c",
        "colab": {
          "base_uri": "https://localhost:8080/",
          "height": 207
        }
      },
      "source": [
        "pred_test, model, evals_result = run_lgb(X_train, X_test, y_train, y_test, test_df)\n",
        "print(\"LightGBM Training Completed...\")"
      ],
      "execution_count": 0,
      "outputs": [
        {
          "output_type": "stream",
          "text": [
            "/usr/local/lib/python3.6/dist-packages/lightgbm/engine.py:118: UserWarning: Found `n_estimators` in params. Will use it instead of argument\n",
            "  warnings.warn(\"Found `{}` in params. Will use it instead of argument\".format(alias))\n",
            "/usr/local/lib/python3.6/dist-packages/sklearn/metrics/classification.py:1437: UndefinedMetricWarning: F-score is ill-defined and being set to 0.0 due to no predicted samples.\n",
            "  'precision', 'predicted', average, warn_for)\n"
          ],
          "name": "stderr"
        },
        {
          "output_type": "stream",
          "text": [
            "Training until validation scores don't improve for 100 rounds.\n",
            "[100]\ttraining's f1: 0.995433\tvalid_1's f1: 0.995565\n",
            "[200]\ttraining's f1: 0.995877\tvalid_1's f1: 0.995763\n",
            "Early stopping, best iteration is:\n",
            "[117]\ttraining's f1: 0.995799\tvalid_1's f1: 0.995921\n",
            "LightGBM Training Completed...\n"
          ],
          "name": "stdout"
        }
      ]
    },
    {
      "cell_type": "code",
      "metadata": {
        "id": "yKqQ3cLf84eZ",
        "colab_type": "code",
        "outputId": "1b2619af-61ec-4041-9433-d3c8a8effb53",
        "colab": {
          "base_uri": "https://localhost:8080/",
          "height": 749
        }
      },
      "source": [
        "feature_imp = pd.DataFrame(sorted(zip(model.feature_importance(),X_train.columns)), columns=['Value','Feature'])\n",
        "import matplotlib.pyplot as plt\n",
        "import seaborn as sns\n",
        "import warnings\n",
        "warnings.simplefilter(action='ignore', category=FutureWarning)\n",
        "\n",
        "# sorted(zip(clf.feature_importances_, X.columns), reverse=True)\n",
        "feature_imp = pd.DataFrame(sorted(zip(model.feature_importance(importance_type='gain'),X_train.columns)), columns=['Value','Feature'])\n",
        "\n",
        "plt.figure(figsize=(20, 10))\n",
        "sns.barplot(x=\"Value\", y=\"Feature\", data=feature_imp.sort_values(by=\"Value\", ascending=False).head(50))\n",
        "plt.title('LightGBM Features (avg over folds)')\n",
        "plt.tight_layout()\n",
        "plt.show()"
      ],
      "execution_count": 0,
      "outputs": [
        {
          "output_type": "display_data",
          "data": {
            "image/png": "[encoded data removed]",
            "text/plain": [
              "<Figure size 1440x720 with 1 Axes>"
            ]
          },
          "metadata": {
            "tags": []
          }
        }
      ]
    },
    {
      "cell_type": "code",
      "metadata": {
        "id": "V-5HXYD6oK01",
        "colab_type": "code",
        "colab": {}
      },
      "source": [
        "sub['m13'] = pred_test"
      ],
      "execution_count": 0,
      "outputs": []
    },
    {
      "cell_type": "code",
      "metadata": {
        "id": "2n0xM5n7oM0x",
        "colab_type": "code",
        "colab": {}
      },
      "source": [
        "sub['m13'] = sub['m13'].apply(lambda x : 1 if (x>=0.40) else 0)"
      ],
      "execution_count": 0,
      "outputs": []
    },
    {
      "cell_type": "code",
      "metadata": {
        "id": "W5lU2nr9oOgh",
        "colab_type": "code",
        "outputId": "3d69af39-e44b-4808-e651-1e43314dbcab",
        "colab": {
          "base_uri": "https://localhost:8080/",
          "height": 34
        }
      },
      "source": [
        "sub['m13'].sum()"
      ],
      "execution_count": 0,
      "outputs": [
        {
          "output_type": "execute_result",
          "data": {
            "text/plain": [
              "77"
            ]
          },
          "metadata": {
            "tags": []
          },
          "execution_count": 204
        }
      ]
    },
    {
      "cell_type": "code",
      "metadata": {
        "id": "0wHalGgfoPzh",
        "colab_type": "code",
        "colab": {}
      },
      "source": [
        "sub.to_csv('Final_R20_NewF.csv',index=False)"
      ],
      "execution_count": 0,
      "outputs": []
    },
    {
      "cell_type": "markdown",
      "metadata": {
        "id": "Ll1gl4WP33F_",
        "colab_type": "text"
      },
      "source": [
        "## Kfold LGB"
      ]
    },
    {
      "cell_type": "code",
      "metadata": {
        "id": "KdsHApRpHpQ6",
        "colab_type": "code",
        "colab": {}
      },
      "source": [
        "!pip install CatBoost"
      ],
      "execution_count": 0,
      "outputs": []
    },
    {
      "cell_type": "code",
      "metadata": {
        "id": "ZCx7sFxkH08F",
        "colab_type": "code",
        "colab": {}
      },
      "source": [
        "from catboost import CatBoostClassifier"
      ],
      "execution_count": 0,
      "outputs": []
    },
    {
      "cell_type": "code",
      "metadata": {
        "id": "SM0NAehuKS7V",
        "colab_type": "code",
        "colab": {}
      },
      "source": [
        "params = {\n",
        "        \"objective\" : \"binary\",\n",
        "       \"n_estimators\":10000,\n",
        "       \"reg_alpha\" : 2.0,\n",
        "       \"reg_lambda\":2.1,\n",
        "       \"n_jobs\":-1,\n",
        "       \"colsample_bytree\":.8,\n",
        "       \"min_child_weight\":0.8,\n",
        "       \"subsample\":0.8715623,\n",
        "       \"min_data_in_leaf\":20,\n",
        "       \"nthread\":4,\n",
        "       \"metric\" : \"f1\",\n",
        "       \"num_leaves\" : 100,\n",
        "       \"learning_rate\" : 0.01,\n",
        "       \"verbosity\" : -1,\n",
        "       \"seed\": 120,\n",
        "       \"max_bin\":60,\n",
        "       'max_depth':15,\n",
        "       'min_gain_to_split':.0222415,\n",
        "       'scale_pos_weight':1\n",
        "    }"
      ],
      "execution_count": 0,
      "outputs": []
    },
    {
      "cell_type": "code",
      "metadata": {
        "id": "pZ3Y6RODECba",
        "colab_type": "code",
        "colab": {}
      },
      "source": [
        "from sklearn.metrics import accuracy_score,confusion_matrix,roc_auc_score\n",
        "errcb=[]\n",
        "y_pred_totcb=[]\n",
        "from sklearn.model_selection import KFold,StratifiedKFold\n",
        "fold=StratifiedKFold(n_splits=4,shuffle=True,random_state=1994)\n",
        "i=1\n",
        "for train_index, test_index in fold.split(X,y):\n",
        "    X_train, X_test = X.iloc[train_index], X.iloc[test_index]\n",
        "    y_train, y_test = y[train_index], y[test_index]\n",
        "    lgtrain = lgb.Dataset(X_train, label=y_train)\n",
        "    lgval = lgb.Dataset(X_test, label=y_test)\n",
        "    model = lgb.train(params, lgtrain, 10000, \n",
        "                      valid_sets=[lgtrain, lgval], \n",
        "                      early_stopping_rounds=100, \n",
        "                      verbose_eval=100,feval=lgb_f1_score)\n",
        "    preds = model.predict(X_test, num_iteration=model.best_iteration)\n",
        "    print(\"err: \",roc_auc_score(y_test,preds))\n",
        "    errcb.append(roc_auc_score(y_test,preds))\n",
        "    p = model.predict(test_df, num_iteration=model.best_iteration)\n",
        "    y_pred_totcb.append(p)"
      ],
      "execution_count": 0,
      "outputs": []
    },
    {
      "cell_type": "code",
      "metadata": {
        "id": "NEo5GHqTECNc",
        "colab_type": "code",
        "colab": {}
      },
      "source": [
        "y_pred_totcb"
      ],
      "execution_count": 0,
      "outputs": []
    },
    {
      "cell_type": "code",
      "metadata": {
        "id": "WEEbiLcQfwr4",
        "colab_type": "code",
        "colab": {}
      },
      "source": [
        "y_pred = np.mean(y_pred_totcb,0)"
      ],
      "execution_count": 0,
      "outputs": []
    },
    {
      "cell_type": "code",
      "metadata": {
        "id": "Xz4pp174gMja",
        "colab_type": "code",
        "colab": {}
      },
      "source": [
        "sub['m13'] = y_pred"
      ],
      "execution_count": 0,
      "outputs": []
    },
    {
      "cell_type": "code",
      "metadata": {
        "id": "dmUTIrLsgUQ9",
        "colab_type": "code",
        "colab": {}
      },
      "source": [
        "sub['m13'] = sub['m13'].apply(lambda x : 1 if (x>=0.40) else 0)"
      ],
      "execution_count": 0,
      "outputs": []
    },
    {
      "cell_type": "code",
      "metadata": {
        "id": "JRzfSw4MgWN-",
        "colab_type": "code",
        "colab": {}
      },
      "source": [
        "sub['m13'].sum()"
      ],
      "execution_count": 0,
      "outputs": []
    },
    {
      "cell_type": "code",
      "metadata": {
        "id": "a-bIyiHygZS9",
        "colab_type": "code",
        "colab": {}
      },
      "source": [
        "sub.to_csv('Kfold.csv',index=False)"
      ],
      "execution_count": 0,
      "outputs": []
    },
    {
      "cell_type": "code",
      "metadata": {
        "id": "pir4LTEa4_dO",
        "colab_type": "code",
        "colab": {}
      },
      "source": [
        ""
      ],
      "execution_count": 0,
      "outputs": []
    }
  ]
}